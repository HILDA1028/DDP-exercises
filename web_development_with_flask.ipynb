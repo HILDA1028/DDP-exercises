{
  "nbformat": 4,
  "nbformat_minor": 0,
  "metadata": {
    "colab": {
      "name": "Untitled7.ipynb",
      "provenance": [],
      "collapsed_sections": [],
      "include_colab_link": true
    },
    "kernelspec": {
      "name": "python3",
      "display_name": "Python 3"
    },
    "language_info": {
      "name": "python"
    }
  },
  "cells": [
    {
      "cell_type": "markdown",
      "metadata": {
        "id": "view-in-github",
        "colab_type": "text"
      },
      "source": [
        "<a href=\"https://colab.research.google.com/github/HILDA1028/DDP-exercises/blob/main/web_development_with_flask.ipynb\" target=\"_parent\"><img src=\"https://colab.research.google.com/assets/colab-badge.svg\" alt=\"Open In Colab\"/></a>"
      ]
    },
    {
      "cell_type": "markdown",
      "source": [
        "# Web Development with Flask: Part two"
      ],
      "metadata": {
        "id": "nq1LXc2OKNP9"
      }
    },
    {
      "cell_type": "markdown",
      "source": [
        "In our last tutorial we put together a basic Flask app and served content to the world. However, we didn't really reach our goal of making a truly dynamic and interactive. We can start to get there here by serving HTML templates with dynamic content, and by allowing our users to make selections and choices. \n",
        "\n",
        "First we need to install our packages again and add our Ngrok token. We also will install a new package, _flask-wtf_, as this will allow us to create a user form:"
      ],
      "metadata": {
        "id": "XrByVSzFKR6d"
      }
    },
    {
      "cell_type": "code",
      "execution_count": null,
      "metadata": {
        "colab": {
          "base_uri": "https://localhost:8080/"
        },
        "id": "vnF47trUKMEj",
        "outputId": "4e7feb96-9f7a-4942-a7f8-9da0ea65ff05"
      },
      "outputs": [
        {
          "output_type": "stream",
          "name": "stdout",
          "text": [
            "Collecting flask-ngrok\n",
            "  Downloading flask_ngrok-0.0.25-py3-none-any.whl (3.1 kB)\n",
            "Requirement already satisfied: Flask>=0.8 in /usr/local/lib/python3.7/dist-packages (from flask-ngrok) (1.1.4)\n",
            "Requirement already satisfied: requests in /usr/local/lib/python3.7/dist-packages (from flask-ngrok) (2.23.0)\n",
            "Requirement already satisfied: Werkzeug<2.0,>=0.15 in /usr/local/lib/python3.7/dist-packages (from Flask>=0.8->flask-ngrok) (1.0.1)\n",
            "Requirement already satisfied: click<8.0,>=5.1 in /usr/local/lib/python3.7/dist-packages (from Flask>=0.8->flask-ngrok) (7.1.2)\n",
            "Requirement already satisfied: itsdangerous<2.0,>=0.24 in /usr/local/lib/python3.7/dist-packages (from Flask>=0.8->flask-ngrok) (1.1.0)\n",
            "Requirement already satisfied: Jinja2<3.0,>=2.10.1 in /usr/local/lib/python3.7/dist-packages (from Flask>=0.8->flask-ngrok) (2.11.3)\n",
            "Requirement already satisfied: MarkupSafe>=0.23 in /usr/local/lib/python3.7/dist-packages (from Jinja2<3.0,>=2.10.1->Flask>=0.8->flask-ngrok) (2.0.1)\n",
            "Requirement already satisfied: chardet<4,>=3.0.2 in /usr/local/lib/python3.7/dist-packages (from requests->flask-ngrok) (3.0.4)\n",
            "Requirement already satisfied: certifi>=2017.4.17 in /usr/local/lib/python3.7/dist-packages (from requests->flask-ngrok) (2021.10.8)\n",
            "Requirement already satisfied: urllib3!=1.25.0,!=1.25.1,<1.26,>=1.21.1 in /usr/local/lib/python3.7/dist-packages (from requests->flask-ngrok) (1.24.3)\n",
            "Requirement already satisfied: idna<3,>=2.5 in /usr/local/lib/python3.7/dist-packages (from requests->flask-ngrok) (2.10)\n",
            "Installing collected packages: flask-ngrok\n",
            "Successfully installed flask-ngrok-0.0.25\n",
            "Collecting pyngrok\n",
            "  Downloading pyngrok-5.1.0.tar.gz (745 kB)\n",
            "\u001b[K     |████████████████████████████████| 745 kB 5.5 MB/s \n",
            "\u001b[?25hRequirement already satisfied: PyYAML in /usr/local/lib/python3.7/dist-packages (from pyngrok) (3.13)\n",
            "Building wheels for collected packages: pyngrok\n",
            "  Building wheel for pyngrok (setup.py) ... \u001b[?25l\u001b[?25hdone\n",
            "  Created wheel for pyngrok: filename=pyngrok-5.1.0-py3-none-any.whl size=19007 sha256=b031a08c4c6e950defd96361965cbfa7b63cfc91a5062e8242792a2c1c25223f\n",
            "  Stored in directory: /root/.cache/pip/wheels/bf/e6/af/ccf6598ecefecd44104069371795cb9b3afbcd16987f6ccfb3\n",
            "Successfully built pyngrok\n",
            "Installing collected packages: pyngrok\n",
            "Successfully installed pyngrok-5.1.0\n",
            "Collecting flask-wtf\n",
            "  Downloading Flask_WTF-1.0.0-py3-none-any.whl (12 kB)\n",
            "Requirement already satisfied: Flask in /usr/local/lib/python3.7/dist-packages (from flask-wtf) (1.1.4)\n",
            "Collecting WTForms\n",
            "  Downloading WTForms-3.0.1-py3-none-any.whl (136 kB)\n",
            "\u001b[K     |████████████████████████████████| 136 kB 5.3 MB/s \n",
            "\u001b[?25hRequirement already satisfied: itsdangerous in /usr/local/lib/python3.7/dist-packages (from flask-wtf) (1.1.0)\n",
            "Requirement already satisfied: click<8.0,>=5.1 in /usr/local/lib/python3.7/dist-packages (from Flask->flask-wtf) (7.1.2)\n",
            "Requirement already satisfied: Werkzeug<2.0,>=0.15 in /usr/local/lib/python3.7/dist-packages (from Flask->flask-wtf) (1.0.1)\n",
            "Requirement already satisfied: Jinja2<3.0,>=2.10.1 in /usr/local/lib/python3.7/dist-packages (from Flask->flask-wtf) (2.11.3)\n",
            "Requirement already satisfied: MarkupSafe>=0.23 in /usr/local/lib/python3.7/dist-packages (from Jinja2<3.0,>=2.10.1->Flask->flask-wtf) (2.0.1)\n",
            "Installing collected packages: WTForms, flask-wtf\n",
            "Successfully installed WTForms-3.0.1 flask-wtf-1.0.0\n",
            "Authtoken saved to configuration file: /root/.ngrok2/ngrok.yml\n"
          ]
        }
      ],
      "source": [
        "!pip install flask-ngrok\n",
        "!pip install pyngrok\n",
        "!pip install flask-wtf\n",
        "\n",
        "!ngrok authtoken \"26BvgXYy1dYdYbyUY3ANkbnMWnL_7W7FsQgfpmt1cZQhymTQx\""
      ]
    },
    {
      "cell_type": "markdown",
      "source": [
        "We want our website to make our web app look good, so obviously the best thing to do is get some templates/themes from someone who knows how to do such things (and make them look pretty). I have forked a basic flask template from [here](https://github.com/petersimeth/basic-flask-template) ... and kept the author credit on the main page. I have also added some extra content on the sub pages.\n",
        "\n",
        "We can clone this repo from my Github and load it into the Colab session:"
      ],
      "metadata": {
        "id": "9VEY3sDviUV0"
      }
    },
    {
      "cell_type": "code",
      "source": [
        "!git clone \"https://github.com/HILDA1028/DDP-exercises\""
      ],
      "metadata": {
        "colab": {
          "base_uri": "https://localhost:8080/"
        },
        "id": "PXO7fNqCM7bb",
        "outputId": "bd8e1afe-707e-4f45-e81c-afff6c374e50"
      },
      "execution_count": null,
      "outputs": [
        {
          "output_type": "stream",
          "name": "stdout",
          "text": [
            "Cloning into 'DDP-exercises'...\n",
            "remote: Enumerating objects: 302, done.\u001b[K\n",
            "remote: Counting objects: 100% (302/302), done.\u001b[K\n",
            "remote: Compressing objects: 100% (223/223), done.\u001b[K\n",
            "remote: Total 302 (delta 142), reused 214 (delta 70), pack-reused 0\u001b[K\n",
            "Receiving objects: 100% (302/302), 24.12 MiB | 21.55 MiB/s, done.\n",
            "Resolving deltas: 100% (142/142), done.\n"
          ]
        }
      ]
    },
    {
      "cell_type": "markdown",
      "source": [
        "We now need to navigate to this folder so we have access to the templates from our session. We can use the basic _os_ function of Python like normal:"
      ],
      "metadata": {
        "id": "1dhBwxigmBsU"
      }
    },
    {
      "cell_type": "code",
      "source": [
        "import os\n",
        "os.chdir(\"/content/DDP-exercises/\")"
      ],
      "metadata": {
        "id": "bPZzDkz-MvZd"
      },
      "execution_count": null,
      "outputs": []
    },
    {
      "cell_type": "markdown",
      "source": [
        "We can look at the basic structure of the repo if we visit the cloned [URL](https://github.com/MJMortensonWarwick/basic-flask-template) above. We will see there is a folder called \"templates\" which has the HTML code will run (and links in the CSS/JS from the standard Bootstrap URLs). In fact this is the only bit we are using from the repo.\n",
        "\n",
        "The templates folder is structured as follows:\n",
        "<br><br>templates<br>\n",
        "&nbsp;&nbsp;|--&nbsp;includes<br>\n",
        "&nbsp;&nbsp;&nbsp;&nbsp;&nbsp; |--&nbsp;_navbar.html<br>\n",
        "&nbsp;&nbsp;|--&nbsp;formpage.html<br>\n",
        "&nbsp;&nbsp;|--&nbsp;index.html<br>\n",
        "&nbsp;&nbsp;|--&nbsp;layout.html<br>\n",
        "&nbsp;&nbsp;|--&nbsp;list.html<br>\n",
        "&nbsp;&nbsp;|--&nbsp;table.html<br><br>\n",
        "\n",
        "Most of these should be fairly clear from our previous work on HTML. We should note that we are following a standard practice of extending a base template so we don't need to include all of the HTML template code in every file. E.g. if we look at the \"index.html\" file it starts with _{% extends 'layout.html' %}_. This means all of the code in \"layout.html\" is also included.\n",
        "\n",
        "The index.html page is unchanged from the original repo. Let's start by running just this:"
      ],
      "metadata": {
        "id": "NTJIFySLjAq8"
      }
    },
    {
      "cell_type": "code",
      "source": [
        "from flask import *\n",
        "from flask_ngrok import run_with_ngrok\n",
        "\n",
        "app = Flask(__name__)\n",
        "\n",
        "app_data = {\n",
        "    \"name\":         \"Peter's Starter Template for a Flask Web App\",\n",
        "    \"description\":  \"A basic Flask app using bootstrap for layout\",\n",
        "    \"author\":       \"Peter Simeth\",\n",
        "    \"html_title\":   \"Peter's Starter Template for a Flask Web App\",\n",
        "    \"project_name\": \"Starter Template\",\n",
        "    \"keywords\":     \"flask, webapp, template, basic\"\n",
        "}\n",
        "\n",
        "\n",
        "@app.route('/')\n",
        "def index():\n",
        "    return render_template('index_test.html', app_data=app_data)\n",
        "\n",
        "run_with_ngrok(app)\n",
        "app.run()"
      ],
      "metadata": {
        "colab": {
          "base_uri": "https://localhost:8080/"
        },
        "id": "UJFsCrgWNqk0",
        "outputId": "533c8b24-87d1-49db-c468-a311875a3929"
      },
      "execution_count": null,
      "outputs": [
        {
          "metadata": {
            "tags": null
          },
          "name": "stdout",
          "output_type": "stream",
          "text": [
            " * Serving Flask app \"__main__\" (lazy loading)\n",
            " * Environment: production\n",
            "\u001b[31m   WARNING: This is a development server. Do not use it in a production deployment.\u001b[0m\n",
            "\u001b[2m   Use a production WSGI server instead.\u001b[0m\n",
            " * Debug mode: off\n"
          ]
        },
        {
          "metadata": {
            "tags": null
          },
          "name": "stderr",
          "output_type": "stream",
          "text": [
            " * Running on http://127.0.0.1:5000/ (Press CTRL+C to quit)\n",
            "Exception in thread _colab_inspector_thread:\n",
            "Traceback (most recent call last):\n",
            "  File \"/usr/lib/python3.7/threading.py\", line 926, in _bootstrap_inner\n",
            "    self.run()\n",
            "  File \"/usr/lib/python3.7/threading.py\", line 870, in run\n",
            "    self._target(*self._args, **self._kwargs)\n",
            "  File \"/usr/local/lib/python3.7/dist-packages/google/colab/_debugpy.py\", line 64, in inspector_thread\n",
            "    _variable_inspector.run(shell, time)\n",
            "  File \"/usr/local/lib/python3.7/dist-packages/google/colab/_variable_inspector.py\", line 27, in run\n",
            "    globals().clear()\n",
            "TypeError: 'module' object is not callable\n",
            "\n"
          ]
        },
        {
          "metadata": {
            "tags": null
          },
          "name": "stdout",
          "output_type": "stream",
          "text": [
            " * Running on http://fd26-34-125-189-150.ngrok.io\n",
            " * Traffic stats available on http://127.0.0.1:4040\n"
          ]
        },
        {
          "metadata": {
            "tags": null
          },
          "name": "stderr",
          "output_type": "stream",
          "text": [
            "127.0.0.1 - - [11/Mar/2022 11:37:56] \"\u001b[37mGET / HTTP/1.1\u001b[0m\" 200 -\n",
            "127.0.0.1 - - [11/Mar/2022 11:37:58] \"\u001b[37mGET / HTTP/1.1\u001b[0m\" 200 -\n",
            "127.0.0.1 - - [11/Mar/2022 11:37:59] \"\u001b[37mGET /static/diving.jpeg HTTP/1.1\u001b[0m\" 200 -\n",
            "127.0.0.1 - - [11/Mar/2022 11:37:59] \"\u001b[37mGET /static/wen.jpg HTTP/1.1\u001b[0m\" 200 -\n",
            "127.0.0.1 - - [11/Mar/2022 11:38:01] \"\u001b[37mGET / HTTP/1.1\u001b[0m\" 200 -\n",
            "127.0.0.1 - - [11/Mar/2022 11:38:01] \"\u001b[37mGET /static/style_test.css HTTP/1.1\u001b[0m\" 200 -\n",
            "127.0.0.1 - - [11/Mar/2022 11:38:01] \"\u001b[37mGET /static/Hilda.jpeg HTTP/1.1\u001b[0m\" 200 -\n",
            "127.0.0.1 - - [11/Mar/2022 11:38:01] \"\u001b[37mGET /static/dancing1.gif HTTP/1.1\u001b[0m\" 200 -\n",
            "127.0.0.1 - - [11/Mar/2022 11:38:01] \"\u001b[37mGET /static/diving.jpeg HTTP/1.1\u001b[0m\" 200 -\n",
            "127.0.0.1 - - [11/Mar/2022 11:38:01] \"\u001b[37mGET /static/xu.jpeg HTTP/1.1\u001b[0m\" 200 -\n",
            "127.0.0.1 - - [11/Mar/2022 11:38:01] \"\u001b[37mGET /static/wen.jpg HTTP/1.1\u001b[0m\" 200 -\n",
            "127.0.0.1 - - [11/Mar/2022 11:38:01] \"\u001b[37mGET /static/chen.pic.jpg HTTP/1.1\u001b[0m\" 200 -\n",
            "127.0.0.1 - - [11/Mar/2022 11:38:02] \"\u001b[37mGET /static/header2.png HTTP/1.1\u001b[0m\" 200 -\n",
            "127.0.0.1 - - [11/Mar/2022 11:38:02] \"\u001b[37mGET /static/Enrique_Iglesias_Ring%20my%20Bells.mp3 HTTP/1.1\u001b[0m\" 206 -\n",
            "127.0.0.1 - - [11/Mar/2022 11:38:05] \"\u001b[37mGET /static/favicon1.png HTTP/1.1\u001b[0m\" 200 -\n",
            "127.0.0.1 - - [11/Mar/2022 11:38:12] \"\u001b[37mGET /static/hi.mp4 HTTP/1.1\u001b[0m\" 206 -\n",
            "127.0.0.1 - - [11/Mar/2022 11:38:16] \"\u001b[37mGET /static/dancing1.gif HTTP/1.1\u001b[0m\" 200 -\n",
            "127.0.0.1 - - [11/Mar/2022 11:38:16] \"\u001b[37mGET /static/xu.jpeg HTTP/1.1\u001b[0m\" 200 -\n",
            "127.0.0.1 - - [11/Mar/2022 11:38:16] \"\u001b[37mGET /static/Hilda.jpeg HTTP/1.1\u001b[0m\" 200 -\n",
            "127.0.0.1 - - [11/Mar/2022 11:38:16] \"\u001b[37mGET /static/style_test.css HTTP/1.1\u001b[0m\" 200 -\n",
            "127.0.0.1 - - [11/Mar/2022 11:38:16] \"\u001b[37mGET /static/chen.pic.jpg HTTP/1.1\u001b[0m\" 200 -\n",
            "127.0.0.1 - - [11/Mar/2022 11:38:18] \"\u001b[37mGET /static/Enrique_Iglesias_Ring%20my%20Bells.mp3 HTTP/1.1\u001b[0m\" 206 -\n",
            "127.0.0.1 - - [11/Mar/2022 11:38:19] \"\u001b[37mGET /static/Enrique_Iglesias_Ring%20my%20Bells.mp3 HTTP/1.1\u001b[0m\" 206 -\n"
          ]
        }
      ]
    }
  ]
}